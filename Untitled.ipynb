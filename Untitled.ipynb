{
 "cells": [
  {
   "cell_type": "code",
   "execution_count": null,
   "id": "2d7d8e9c-ab41-4a09-bc35-c6322cc71ea8",
   "metadata": {},
   "outputs": [],
   "source": []
  },
  {
   "cell_type": "code",
   "execution_count": 1,
   "id": "e9d25d65-71c5-4c26-bd9f-a9cf2d63a882",
   "metadata": {},
   "outputs": [],
   "source": [
    "import seaborn as sns\n",
    "import matplotlib.pyplot as plt\n",
    "import pandas as pd\n",
    "import os\n",
    "\n",
    "\n"
   ]
  },
  {
   "cell_type": "code",
   "execution_count": 3,
   "id": "5cfb01d8-51c7-4dbd-a251-b02217c9f699",
   "metadata": {},
   "outputs": [
    {
     "name": "stdout",
     "output_type": "stream",
     "text": [
      "   Semilla Algoritmo Tipo de lista  Longitud  \\\n",
      "0      320  pivotear     Aleatoria      1000   \n",
      "1      320  pivotear     Aleatoria      1000   \n",
      "2      320  pivotear     Aleatoria      1000   \n",
      "3      320  pivotear     Aleatoria      1000   \n",
      "4      320  pivotear     Aleatoria      1000   \n",
      "\n",
      "   Categorías o Proporción desorden  Tiempo  \n",
      "0                                 5   0.000  \n",
      "1                                10   0.001  \n",
      "2                                15   0.000  \n",
      "3                                20   0.001  \n",
      "4                                25   0.001  \n"
     ]
    }
   ],
   "source": [
    "nombre_archivo = \"resultados_tester_semilla320_20250723_151213.csv\"\n",
    "ruta_archivo = os.path.join(\".\", \"resultados\", nombre_archivo)\n",
    "# probar con distintos separadores y encodings si no abre bien, el sniffer.csv no se lleva bien con pandas\n",
    "df = pd.read_csv(ruta_archivo, encoding='latin1', sep = \",\")\n",
    "df[\"Longitud\"] = pd.to_numeric(df[\"Longitud\"], errors=\"coerce\")\n",
    "df[\"Tiempo\"] = pd.to_numeric(df[\"Tiempo\"], errors=\"coerce\")\n",
    "\n",
    "print(df.head())\n"
   ]
  },
  {
   "cell_type": "code",
   "execution_count": null,
   "id": "a48eae38-dbd4-46a2-a3f2-2ffa26637b35",
   "metadata": {},
   "outputs": [],
   "source": [
    "sns.set(style=\"whitegrid\", palette=\"muted\", font_scale=1.2)\n",
    "\n",
    "df_filtrado = df[df['Tipo de lista'] == \"Lista ordenada\"].copy().reset_index(drop=True)\n",
    "\n",
    "        \n",
    "# plt.figure(figsize=(12, 7))\n",
    "# sns.set(style=\"whitegrid\", palette=\"colorblind\", font_scale=1.2)\n",
    "\n",
    "# ax = sns.scatterplot(\n",
    "# data=df_filtrado,\n",
    "# x=\"Longitud\",\n",
    "# y=\"Tiempo\",\n",
    "# hue=\"Algoritmo\",\n",
    "# marker=\"o\",\n",
    "# linewidth=2.2\n",
    "#         )\n",
    "\n",
    "# titulo = \"Tiempo por longitud de lista - Lista ordenada\"\n",
    "# ax.set_title(titulo, fontsize=16, weight='bold')\n",
    "# ax.set_xlabel(\"Longitud de lista\", fontsize=13)\n",
    "# ax.set_ylabel(\"Tiempo (segundos)\", fontsize=13)\n",
    "# ax.legend(title=\"Algoritmo\", title_fontsize=12, fontsize=11)\n",
    "\n",
    "# ax.set_xlim(df_filtrado[\"Longitud\"].min(), df_filtrado[\"Longitud\"].max())\n",
    "# ax.set_ylim(df_filtrado[\"Tiempo\"].min(), df_filtrado[\"Tiempo\"].max())\n",
    "\n",
    "# plt.tight_layout()\n",
    "\n",
    "# nombre_archivo = f\"tiempo_vs_longitud_Lista_ordenada.png\"\n",
    "# output_path = os.path.join(\"graficos\", nombre_archivo)\n",
    "# os.makedirs(os.path.dirname(output_path), exist_ok=True)\n",
    "\n",
    "# plt.savefig(output_path)\n",
    "# plt.close()\n",
    "print(df_filtrado[\"Longitud\"].min(), df_filtrado[\"Longitud\"].max())\n",
    "print(df_filtrado[\"Tiempo\"].min(), df_filtrado[\"Tiempo\"].max())\n",
    "df_filtrado[\"Longitud\"].head()"
   ]
  },
  {
   "cell_type": "code",
   "execution_count": null,
   "id": "b9af141c-6113-4de5-9bda-04d5e459cf22",
   "metadata": {},
   "outputs": [],
   "source": []
  },
  {
   "cell_type": "code",
   "execution_count": null,
   "id": "2083e204-431d-4473-a500-b427e80f1f63",
   "metadata": {},
   "outputs": [],
   "source": []
  },
  {
   "cell_type": "code",
   "execution_count": null,
   "id": "d65cd226-12f2-4086-b174-feea7b41f4fd",
   "metadata": {},
   "outputs": [],
   "source": []
  },
  {
   "cell_type": "code",
   "execution_count": null,
   "id": "101e48bc-376f-436f-a63e-7da6cc88020f",
   "metadata": {},
   "outputs": [],
   "source": []
  },
  {
   "cell_type": "code",
   "execution_count": null,
   "id": "7fa5ce60-2608-4518-b2bd-ecef2cc26a0b",
   "metadata": {},
   "outputs": [],
   "source": []
  },
  {
   "cell_type": "code",
   "execution_count": null,
   "id": "7ee8778c-5044-42c0-9e98-68ca4b6a96cb",
   "metadata": {},
   "outputs": [],
   "source": []
  },
  {
   "cell_type": "code",
   "execution_count": null,
   "id": "607714c9-1fed-453b-8cab-d47984fd90ee",
   "metadata": {},
   "outputs": [],
   "source": []
  },
  {
   "cell_type": "code",
   "execution_count": null,
   "id": "0bbb10c4-1f64-44a3-9d76-fd92bbc849d6",
   "metadata": {},
   "outputs": [],
   "source": []
  },
  {
   "cell_type": "code",
   "execution_count": null,
   "id": "5f8fc277-e847-4a37-947b-3779fe03e840",
   "metadata": {},
   "outputs": [],
   "source": []
  },
  {
   "cell_type": "code",
   "execution_count": null,
   "id": "316600de-f880-4eb2-8e32-6af992ab82eb",
   "metadata": {},
   "outputs": [],
   "source": []
  },
  {
   "cell_type": "code",
   "execution_count": null,
   "id": "b46e1936-91e4-4c3f-82da-37ca9ead01fd",
   "metadata": {},
   "outputs": [],
   "source": []
  },
  {
   "cell_type": "code",
   "execution_count": null,
   "id": "49ff4f74-0c40-4f19-b427-bb3f13848ee4",
   "metadata": {},
   "outputs": [],
   "source": []
  },
  {
   "cell_type": "code",
   "execution_count": null,
   "id": "d699ca84-42fb-44f3-80e0-da1266aa8430",
   "metadata": {},
   "outputs": [],
   "source": []
  },
  {
   "cell_type": "code",
   "execution_count": null,
   "id": "337491c4-9c39-4af0-8d8b-c781bf6daedb",
   "metadata": {},
   "outputs": [],
   "source": []
  },
  {
   "cell_type": "code",
   "execution_count": null,
   "id": "d9c3d1d7-1ca1-4ce4-b26b-7d12f7ac437e",
   "metadata": {},
   "outputs": [],
   "source": []
  },
  {
   "cell_type": "code",
   "execution_count": null,
   "id": "248ca522-2869-494e-9f27-201aa5b70575",
   "metadata": {},
   "outputs": [],
   "source": []
  }
 ],
 "metadata": {
  "kernelspec": {
   "display_name": "Python 3 (ipykernel)",
   "language": "python",
   "name": "python3"
  },
  "language_info": {
   "codemirror_mode": {
    "name": "ipython",
    "version": 3
   },
   "file_extension": ".py",
   "mimetype": "text/x-python",
   "name": "python",
   "nbconvert_exporter": "python",
   "pygments_lexer": "ipython3",
   "version": "3.12.7"
  }
 },
 "nbformat": 4,
 "nbformat_minor": 5
}
